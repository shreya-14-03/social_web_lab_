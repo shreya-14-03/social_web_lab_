{
  "nbformat": 4,
  "nbformat_minor": 0,
  "metadata": {
    "colab": {
      "name": "social_web_lab3.ipynb",
      "provenance": [],
      "authorship_tag": "ABX9TyMpfKlcKulUQSQsbZUo0fst",
      "include_colab_link": true
    },
    "kernelspec": {
      "name": "python3",
      "display_name": "Python 3"
    },
    "language_info": {
      "name": "python"
    }
  },
  "cells": [
    {
      "cell_type": "markdown",
      "metadata": {
        "id": "view-in-github",
        "colab_type": "text"
      },
      "source": [
        "<a href=\"https://colab.research.google.com/github/shreya-14-03/social_web_lab_/blob/main/social_web_lab3.ipynb\" target=\"_parent\"><img src=\"https://colab.research.google.com/assets/colab-badge.svg\" alt=\"Open In Colab\"/></a>"
      ]
    },
    {
      "cell_type": "markdown",
      "source": [
        "1) calculate word count of a given word. 2) Show top 10 frequent words with their frequency. steps 1) preprocessing 1.1) Case folding 1.2) remove URL's 1.3) Remove stopwords 1.4) tokenization 1.5) lemmatization"
      ],
      "metadata": {
        "id": "h2KY2vgrddeE"
      }
    },
    {
      "cell_type": "code",
      "source": [
        "import os\n",
        "import pandas as pd\n",
        "import matplotlib.pyplot as plt\n",
        "import seaborn as sns\n",
        "import itertools\n",
        "import collections\n",
        "\n",
        "import tweepy as tw\n",
        "import nltk\n",
        "from nltk.corpus import stopwords\n",
        "import re\n",
        "import networkx\n",
        "\n",
        "import warnings\n",
        "warnings.filterwarnings(\"ignore\")\n",
        "\n",
        "sns.set(font_scale=1.5)\n",
        "sns.set_style(\"whitegrid\")"
      ],
      "metadata": {
        "id": "NEsg60J-a5BE"
      },
      "execution_count": null,
      "outputs": []
    },
    {
      "cell_type": "code",
      "source": [
        "consumer_key=\"6nOaJDLHrlUURkrqMNjHETCws\"\n",
        "consumer_secret=\"Hw3nhw1ZQlcoexdLT9w0ZIzlbGO9knbQ09nydzwwVQEWeI6XoR\"\n",
        "access_token=\"1366400620060499970-gFOVEQEu5tRx1N8rA9rGivXfEtSDKi\"\n",
        "access_token_secret=\"55MnatoE0z1jWqcmQOPT99Uc63sLSSGwl0BVoobOcEdVQ\""
      ],
      "metadata": {
        "id": "Kkrj1HenZaWb"
      },
      "execution_count": null,
      "outputs": []
    },
    {
      "cell_type": "code",
      "source": [
        "auth = tw.OAuthHandler(consumer_key, consumer_secret)\n",
        "auth.set_access_token(access_token, access_token_secret)\n",
        "api = tw.API(auth, wait_on_rate_limit=True)"
      ],
      "metadata": {
        "id": "zTWm71R0bGhO"
      },
      "execution_count": null,
      "outputs": []
    },
    {
      "cell_type": "code",
      "source": [
        "search_term = \"#water+save -filter:retweets\"\n",
        "\n",
        "tweets = tw.Cursor(api.search,\n",
        "                   q=search_term,\n",
        "                   lang=\"en\",\n",
        "                   since='2018-11-01').items(1000)\n",
        "\n",
        "all_tweets = [tweet.text for tweet in tweets]\n",
        "\n",
        "all_tweets[:5]"
      ],
      "metadata": {
        "colab": {
          "base_uri": "https://localhost:8080/"
        },
        "id": "nL8CmpBsbKva",
        "outputId": "7c026404-39f9-4da7-b86c-352836dfed6f"
      },
      "execution_count": null,
      "outputs": [
        {
          "output_type": "execute_result",
          "data": {
            "text/plain": [
              "['Everyday can be water day if you find ways to save! #water #wateragency #conservation https://t.co/XEaXCNI5R2',\n",
              " 'World water day!\\nSave water, and it will save you!\\n#WorldWaterDay2022 \\n#WorldWaterDay \\n#WaterIsLife \\n#water… https://t.co/pjoJMfgJ35',\n",
              " 'World water day!\\nSave water, and it will save you!\\n#WorldWaterDay2022 \\n#WorldWaterDay \\n#WaterIsLife \\n#water… https://t.co/gGveN3lYwE',\n",
              " '\"When the well is dry, we know the worth of water\". - Benjamin Franklin\\nSave #WATER for a better future. 💧… https://t.co/83lyFLBe1K',\n",
              " \"WORLD WATER DAY💦\\nDon't let the water run down the sink. Save water, save lives. \\nhttps://t.co/E3VsLvNZEY\\nContact No… https://t.co/ScPGLemUHF\"]"
            ]
          },
          "metadata": {},
          "execution_count": 4
        }
      ]
    },
    {
      "cell_type": "code",
      "source": [
        "def remove_url(txt):\n",
        "    \"\"\"Replace URLs found in a text string with nothing \n",
        "    (i.e. it will remove the URL from the string).\n",
        "\n",
        "    Parameters\n",
        "    ----------\n",
        "    txt : string\n",
        "        A text string that you want to parse and remove urls.\n",
        "\n",
        "    Returns\n",
        "    -------\n",
        "    The same txt string with url's removed.\n",
        "    \"\"\"\n",
        "\n",
        "    return \" \".join(re.sub(\"([^0-9A-Za-z \\t])|(\\w+:\\/\\/\\S+)\", \"\", txt).split())"
      ],
      "metadata": {
        "id": "Bbmcg3xkbSOP"
      },
      "execution_count": null,
      "outputs": []
    },
    {
      "cell_type": "code",
      "source": [
        "all_tweets_no_urls = [remove_url(tweet) for tweet in all_tweets]\n",
        "all_tweets_no_urls[:5]"
      ],
      "metadata": {
        "colab": {
          "base_uri": "https://localhost:8080/"
        },
        "id": "ZNsZHe-lbWAY",
        "outputId": "93f45650-235d-45f0-dca4-f65b0c82281c"
      },
      "execution_count": null,
      "outputs": [
        {
          "output_type": "execute_result",
          "data": {
            "text/plain": [
              "['Everyday can be water day if you find ways to save water wateragency conservation',\n",
              " 'World water daySave water and it will save youWorldWaterDay2022 WorldWaterDay WaterIsLife water',\n",
              " 'World water daySave water and it will save youWorldWaterDay2022 WorldWaterDay WaterIsLife water',\n",
              " 'When the well is dry we know the worth of water Benjamin FranklinSave WATER for a better future',\n",
              " 'WORLD WATER DAYDont let the water run down the sink Save water save lives Contact No']"
            ]
          },
          "metadata": {},
          "execution_count": 6
        }
      ]
    },
    {
      "cell_type": "code",
      "source": [
        "# Note how capitalization impacts unique returned values\n",
        "ex_list = [\"Dog\", \"dog\", \"dog\", \"cat\", \"cat\", \",\"]\n",
        "\n",
        "# Get unique elements in the list\n",
        "set(ex_list)"
      ],
      "metadata": {
        "colab": {
          "base_uri": "https://localhost:8080/"
        },
        "id": "JvuKQ5V3blh4",
        "outputId": "8bd41c70-2209-463e-d089-5341a8a419b1"
      },
      "execution_count": null,
      "outputs": [
        {
          "output_type": "execute_result",
          "data": {
            "text/plain": [
              "{',', 'Dog', 'cat', 'dog'}"
            ]
          },
          "metadata": {},
          "execution_count": 7
        }
      ]
    },
    {
      "cell_type": "code",
      "source": [
        "# Note how capitalization impacts unique returned values\n",
        "words_list = [\"Dog\", \"dog\", \"dog\", \"cat\", \"cat\", \",\"]\n",
        "\n",
        "# Make all elements in the list lowercase\n",
        "lower_case = [word.lower() for word in words_list]\n",
        "\n",
        "# Get all elements in the list\n",
        "lower_case"
      ],
      "metadata": {
        "colab": {
          "base_uri": "https://localhost:8080/"
        },
        "id": "YbsQHjLNbpNY",
        "outputId": "5631c2a1-1dcf-40a5-9e4e-8f9ed864b48a"
      },
      "execution_count": null,
      "outputs": [
        {
          "output_type": "execute_result",
          "data": {
            "text/plain": [
              "['dog', 'dog', 'dog', 'cat', 'cat', ',']"
            ]
          },
          "metadata": {},
          "execution_count": 8
        }
      ]
    },
    {
      "cell_type": "code",
      "source": [
        "# Now you have only unique words\n",
        "set(lower_case)"
      ],
      "metadata": {
        "colab": {
          "base_uri": "https://localhost:8080/"
        },
        "id": "ZvM7Cyv0bsRj",
        "outputId": "13da213d-6cce-46ee-82a4-8efddbbd6bc8"
      },
      "execution_count": null,
      "outputs": [
        {
          "output_type": "execute_result",
          "data": {
            "text/plain": [
              "{',', 'cat', 'dog'}"
            ]
          },
          "metadata": {},
          "execution_count": 9
        }
      ]
    },
    {
      "cell_type": "code",
      "source": [
        "# Split the words from one tweet into unique elements\n",
        "all_tweets_no_urls[0].split()"
      ],
      "metadata": {
        "colab": {
          "base_uri": "https://localhost:8080/"
        },
        "id": "L2yERZK7bvxH",
        "outputId": "96614516-b2ec-48f4-f3e9-d104af8e2042"
      },
      "execution_count": null,
      "outputs": [
        {
          "output_type": "execute_result",
          "data": {
            "text/plain": [
              "['Everyday',\n",
              " 'can',\n",
              " 'be',\n",
              " 'water',\n",
              " 'day',\n",
              " 'if',\n",
              " 'you',\n",
              " 'find',\n",
              " 'ways',\n",
              " 'to',\n",
              " 'save',\n",
              " 'water',\n",
              " 'wateragency',\n",
              " 'conservation']"
            ]
          },
          "metadata": {},
          "execution_count": 10
        }
      ]
    },
    {
      "cell_type": "code",
      "source": [
        "# Split the words from one tweet into unique elements\n",
        "all_tweets_no_urls[0].lower().split()"
      ],
      "metadata": {
        "colab": {
          "base_uri": "https://localhost:8080/"
        },
        "id": "U_PX9wtbbxj6",
        "outputId": "21fd513d-d187-4ff7-c901-2bf6421ed8d4"
      },
      "execution_count": null,
      "outputs": [
        {
          "output_type": "execute_result",
          "data": {
            "text/plain": [
              "['everyday',\n",
              " 'can',\n",
              " 'be',\n",
              " 'water',\n",
              " 'day',\n",
              " 'if',\n",
              " 'you',\n",
              " 'find',\n",
              " 'ways',\n",
              " 'to',\n",
              " 'save',\n",
              " 'water',\n",
              " 'wateragency',\n",
              " 'conservation']"
            ]
          },
          "metadata": {},
          "execution_count": 11
        }
      ]
    },
    {
      "cell_type": "code",
      "source": [
        "# Create a list of lists containing lowercase words for each tweet\n",
        "words_in_tweet = [tweet.lower().split() for tweet in all_tweets_no_urls]\n",
        "words_in_tweet[:2]"
      ],
      "metadata": {
        "colab": {
          "base_uri": "https://localhost:8080/"
        },
        "id": "i-oJJqbhb064",
        "outputId": "6a000a55-4ea7-48bf-bc93-8ac92f421a58"
      },
      "execution_count": null,
      "outputs": [
        {
          "output_type": "execute_result",
          "data": {
            "text/plain": [
              "[['everyday',\n",
              "  'can',\n",
              "  'be',\n",
              "  'water',\n",
              "  'day',\n",
              "  'if',\n",
              "  'you',\n",
              "  'find',\n",
              "  'ways',\n",
              "  'to',\n",
              "  'save',\n",
              "  'water',\n",
              "  'wateragency',\n",
              "  'conservation'],\n",
              " ['world',\n",
              "  'water',\n",
              "  'daysave',\n",
              "  'water',\n",
              "  'and',\n",
              "  'it',\n",
              "  'will',\n",
              "  'save',\n",
              "  'youworldwaterday2022',\n",
              "  'worldwaterday',\n",
              "  'waterislife',\n",
              "  'water']]"
            ]
          },
          "metadata": {},
          "execution_count": 12
        }
      ]
    },
    {
      "cell_type": "code",
      "source": [
        "# List of all words across tweets\n",
        "all_words_no_urls = list(itertools.chain(*words_in_tweet))\n",
        "\n",
        "# Create counter\n",
        "counts_no_urls = collections.Counter(all_words_no_urls)\n",
        "\n",
        "counts_no_urls.most_common(15)"
      ],
      "metadata": {
        "colab": {
          "base_uri": "https://localhost:8080/"
        },
        "id": "NgEY86jUb6dQ",
        "outputId": "50e7da9b-c42a-4291-f99a-f73031e1e7b6"
      },
      "execution_count": null,
      "outputs": [
        {
          "output_type": "execute_result",
          "data": {
            "text/plain": [
              "[('water', 1475),\n",
              " ('save', 872),\n",
              " ('to', 513),\n",
              " ('the', 466),\n",
              " ('is', 413),\n",
              " ('and', 344),\n",
              " ('of', 331),\n",
              " ('life', 308),\n",
              " ('world', 269),\n",
              " ('a', 255),\n",
              " ('on', 231),\n",
              " ('day', 212),\n",
              " ('for', 194),\n",
              " ('lets', 176),\n",
              " ('worldwaterday', 159)]"
            ]
          },
          "metadata": {},
          "execution_count": 13
        }
      ]
    },
    {
      "cell_type": "code",
      "source": [
        "clean_tweets_no_urls = pd.DataFrame(counts_no_urls.most_common(15),\n",
        "                             columns=['words', 'count'])\n",
        "\n",
        "clean_tweets_no_urls.head()"
      ],
      "metadata": {
        "colab": {
          "base_uri": "https://localhost:8080/",
          "height": 206
        },
        "id": "Oe-Tyqb3b93u",
        "outputId": "86925208-97a3-42c4-e0e6-a1bdfe30642d"
      },
      "execution_count": null,
      "outputs": [
        {
          "output_type": "execute_result",
          "data": {
            "text/plain": [
              "   words  count\n",
              "0  water   1475\n",
              "1   save    872\n",
              "2     to    513\n",
              "3    the    466\n",
              "4     is    413"
            ],
            "text/html": [
              "\n",
              "  <div id=\"df-a4cd2830-fbd4-4ba2-801d-60614f94fe07\">\n",
              "    <div class=\"colab-df-container\">\n",
              "      <div>\n",
              "<style scoped>\n",
              "    .dataframe tbody tr th:only-of-type {\n",
              "        vertical-align: middle;\n",
              "    }\n",
              "\n",
              "    .dataframe tbody tr th {\n",
              "        vertical-align: top;\n",
              "    }\n",
              "\n",
              "    .dataframe thead th {\n",
              "        text-align: right;\n",
              "    }\n",
              "</style>\n",
              "<table border=\"1\" class=\"dataframe\">\n",
              "  <thead>\n",
              "    <tr style=\"text-align: right;\">\n",
              "      <th></th>\n",
              "      <th>words</th>\n",
              "      <th>count</th>\n",
              "    </tr>\n",
              "  </thead>\n",
              "  <tbody>\n",
              "    <tr>\n",
              "      <th>0</th>\n",
              "      <td>water</td>\n",
              "      <td>1475</td>\n",
              "    </tr>\n",
              "    <tr>\n",
              "      <th>1</th>\n",
              "      <td>save</td>\n",
              "      <td>872</td>\n",
              "    </tr>\n",
              "    <tr>\n",
              "      <th>2</th>\n",
              "      <td>to</td>\n",
              "      <td>513</td>\n",
              "    </tr>\n",
              "    <tr>\n",
              "      <th>3</th>\n",
              "      <td>the</td>\n",
              "      <td>466</td>\n",
              "    </tr>\n",
              "    <tr>\n",
              "      <th>4</th>\n",
              "      <td>is</td>\n",
              "      <td>413</td>\n",
              "    </tr>\n",
              "  </tbody>\n",
              "</table>\n",
              "</div>\n",
              "      <button class=\"colab-df-convert\" onclick=\"convertToInteractive('df-a4cd2830-fbd4-4ba2-801d-60614f94fe07')\"\n",
              "              title=\"Convert this dataframe to an interactive table.\"\n",
              "              style=\"display:none;\">\n",
              "        \n",
              "  <svg xmlns=\"http://www.w3.org/2000/svg\" height=\"24px\"viewBox=\"0 0 24 24\"\n",
              "       width=\"24px\">\n",
              "    <path d=\"M0 0h24v24H0V0z\" fill=\"none\"/>\n",
              "    <path d=\"M18.56 5.44l.94 2.06.94-2.06 2.06-.94-2.06-.94-.94-2.06-.94 2.06-2.06.94zm-11 1L8.5 8.5l.94-2.06 2.06-.94-2.06-.94L8.5 2.5l-.94 2.06-2.06.94zm10 10l.94 2.06.94-2.06 2.06-.94-2.06-.94-.94-2.06-.94 2.06-2.06.94z\"/><path d=\"M17.41 7.96l-1.37-1.37c-.4-.4-.92-.59-1.43-.59-.52 0-1.04.2-1.43.59L10.3 9.45l-7.72 7.72c-.78.78-.78 2.05 0 2.83L4 21.41c.39.39.9.59 1.41.59.51 0 1.02-.2 1.41-.59l7.78-7.78 2.81-2.81c.8-.78.8-2.07 0-2.86zM5.41 20L4 18.59l7.72-7.72 1.47 1.35L5.41 20z\"/>\n",
              "  </svg>\n",
              "      </button>\n",
              "      \n",
              "  <style>\n",
              "    .colab-df-container {\n",
              "      display:flex;\n",
              "      flex-wrap:wrap;\n",
              "      gap: 12px;\n",
              "    }\n",
              "\n",
              "    .colab-df-convert {\n",
              "      background-color: #E8F0FE;\n",
              "      border: none;\n",
              "      border-radius: 50%;\n",
              "      cursor: pointer;\n",
              "      display: none;\n",
              "      fill: #1967D2;\n",
              "      height: 32px;\n",
              "      padding: 0 0 0 0;\n",
              "      width: 32px;\n",
              "    }\n",
              "\n",
              "    .colab-df-convert:hover {\n",
              "      background-color: #E2EBFA;\n",
              "      box-shadow: 0px 1px 2px rgba(60, 64, 67, 0.3), 0px 1px 3px 1px rgba(60, 64, 67, 0.15);\n",
              "      fill: #174EA6;\n",
              "    }\n",
              "\n",
              "    [theme=dark] .colab-df-convert {\n",
              "      background-color: #3B4455;\n",
              "      fill: #D2E3FC;\n",
              "    }\n",
              "\n",
              "    [theme=dark] .colab-df-convert:hover {\n",
              "      background-color: #434B5C;\n",
              "      box-shadow: 0px 1px 3px 1px rgba(0, 0, 0, 0.15);\n",
              "      filter: drop-shadow(0px 1px 2px rgba(0, 0, 0, 0.3));\n",
              "      fill: #FFFFFF;\n",
              "    }\n",
              "  </style>\n",
              "\n",
              "      <script>\n",
              "        const buttonEl =\n",
              "          document.querySelector('#df-a4cd2830-fbd4-4ba2-801d-60614f94fe07 button.colab-df-convert');\n",
              "        buttonEl.style.display =\n",
              "          google.colab.kernel.accessAllowed ? 'block' : 'none';\n",
              "\n",
              "        async function convertToInteractive(key) {\n",
              "          const element = document.querySelector('#df-a4cd2830-fbd4-4ba2-801d-60614f94fe07');\n",
              "          const dataTable =\n",
              "            await google.colab.kernel.invokeFunction('convertToInteractive',\n",
              "                                                     [key], {});\n",
              "          if (!dataTable) return;\n",
              "\n",
              "          const docLinkHtml = 'Like what you see? Visit the ' +\n",
              "            '<a target=\"_blank\" href=https://colab.research.google.com/notebooks/data_table.ipynb>data table notebook</a>'\n",
              "            + ' to learn more about interactive tables.';\n",
              "          element.innerHTML = '';\n",
              "          dataTable['output_type'] = 'display_data';\n",
              "          await google.colab.output.renderOutput(dataTable, element);\n",
              "          const docLink = document.createElement('div');\n",
              "          docLink.innerHTML = docLinkHtml;\n",
              "          element.appendChild(docLink);\n",
              "        }\n",
              "      </script>\n",
              "    </div>\n",
              "  </div>\n",
              "  "
            ]
          },
          "metadata": {},
          "execution_count": 14
        }
      ]
    },
    {
      "cell_type": "code",
      "source": [
        "fig, ax = plt.subplots(figsize=(8, 8))\n",
        "\n",
        "# Plot horizontal bar graph\n",
        "clean_tweets_no_urls.sort_values(by='count').plot.barh(x='words',\n",
        "                      y='count',\n",
        "                      ax=ax,\n",
        "                      color=\"purple\")\n",
        "\n",
        "ax.set_title(\"Common Words Found in Tweets (Including All Words)\")\n",
        "\n",
        "plt.show()"
      ],
      "metadata": {
        "colab": {
          "base_uri": "https://localhost:8080/",
          "height": 513
        },
        "id": "zaZjhQBDcBf-",
        "outputId": "7746b2dd-7762-4faf-f90f-97ed4ed590ce"
      },
      "execution_count": null,
      "outputs": [
        {
          "output_type": "display_data",
          "data": {
            "text/plain": [
              "<Figure size 576x576 with 1 Axes>"
            ],
            "image/png": "[encoded data removed]"
          },
          "metadata": {
            "needs_background": "light"
          }
        }
      ]
    },
    {
      "cell_type": "code",
      "source": [
        "nltk.download('stopwords')"
      ],
      "metadata": {
        "colab": {
          "base_uri": "https://localhost:8080/"
        },
        "id": "CAWh7xrZcFrK",
        "outputId": "04cdb021-2a84-4286-d28e-d6508f294516"
      },
      "execution_count": null,
      "outputs": [
        {
          "output_type": "stream",
          "name": "stdout",
          "text": [
            "[nltk_data] Downloading package stopwords to /root/nltk_data...\n",
            "[nltk_data]   Unzipping corpora/stopwords.zip.\n"
          ]
        },
        {
          "output_type": "execute_result",
          "data": {
            "text/plain": [
              "True"
            ]
          },
          "metadata": {},
          "execution_count": 16
        }
      ]
    },
    {
      "cell_type": "code",
      "source": [
        "stop_words = set(stopwords.words('english'))\n",
        "\n",
        "# View a few words from the set\n",
        "list(stop_words)[0:10]"
      ],
      "metadata": {
        "colab": {
          "base_uri": "https://localhost:8080/"
        },
        "id": "YZEeEjS4cKGT",
        "outputId": "c3fac75e-e4a9-4790-d237-b4b3ffcd73f6"
      },
      "execution_count": null,
      "outputs": [
        {
          "output_type": "execute_result",
          "data": {
            "text/plain": [
              "['isn',\n",
              " 'off',\n",
              " \"shan't\",\n",
              " \"wouldn't\",\n",
              " 'herself',\n",
              " 'these',\n",
              " 'above',\n",
              " 'other',\n",
              " 'at',\n",
              " 'during']"
            ]
          },
          "metadata": {},
          "execution_count": 17
        }
      ]
    },
    {
      "cell_type": "code",
      "source": [
        "words_in_tweet[0]"
      ],
      "metadata": {
        "colab": {
          "base_uri": "https://localhost:8080/"
        },
        "id": "tEuWOmlUcNf4",
        "outputId": "82ae139c-9ea2-482d-e58f-ed9f638e6a11"
      },
      "execution_count": null,
      "outputs": [
        {
          "output_type": "execute_result",
          "data": {
            "text/plain": [
              "['everyday',\n",
              " 'can',\n",
              " 'be',\n",
              " 'water',\n",
              " 'day',\n",
              " 'if',\n",
              " 'you',\n",
              " 'find',\n",
              " 'ways',\n",
              " 'to',\n",
              " 'save',\n",
              " 'water',\n",
              " 'wateragency',\n",
              " 'conservation']"
            ]
          },
          "metadata": {},
          "execution_count": 18
        }
      ]
    },
    {
      "cell_type": "code",
      "source": [
        "# Remove stop words from each tweet list of words\n",
        "tweets_nsw = [[word for word in tweet_words if not word in stop_words]\n",
        "              for tweet_words in words_in_tweet]\n",
        "\n",
        "tweets_nsw[0]"
      ],
      "metadata": {
        "colab": {
          "base_uri": "https://localhost:8080/"
        },
        "id": "mXkUUwaJcRym",
        "outputId": "43ce1e06-199e-4c4b-e154-e15046c2d976"
      },
      "execution_count": null,
      "outputs": [
        {
          "output_type": "execute_result",
          "data": {
            "text/plain": [
              "['everyday',\n",
              " 'water',\n",
              " 'day',\n",
              " 'find',\n",
              " 'ways',\n",
              " 'save',\n",
              " 'water',\n",
              " 'wateragency',\n",
              " 'conservation']"
            ]
          },
          "metadata": {},
          "execution_count": 19
        }
      ]
    },
    {
      "cell_type": "code",
      "source": [
        "all_words_nsw = list(itertools.chain(*tweets_nsw))\n",
        "\n",
        "counts_nsw = collections.Counter(all_words_nsw)\n",
        "\n",
        "counts_nsw.most_common(15)"
      ],
      "metadata": {
        "colab": {
          "base_uri": "https://localhost:8080/"
        },
        "id": "SxnDtO6McTeI",
        "outputId": "3ceebb13-1bad-41db-b364-d14044ba8bd4"
      },
      "execution_count": null,
      "outputs": [
        {
          "output_type": "execute_result",
          "data": {
            "text/plain": [
              "[('water', 1475),\n",
              " ('save', 872),\n",
              " ('life', 308),\n",
              " ('world', 269),\n",
              " ('day', 212),\n",
              " ('lets', 176),\n",
              " ('worldwaterday', 159),\n",
              " ('every', 129),\n",
              " ('drop', 125),\n",
              " ('without', 91),\n",
              " ('savewater', 89),\n",
              " ('us', 81),\n",
              " ('happy', 71),\n",
              " ('pledge', 62),\n",
              " ('future', 60)]"
            ]
          },
          "metadata": {},
          "execution_count": 20
        }
      ]
    },
    {
      "cell_type": "code",
      "source": [
        "clean_tweets_nsw = pd.DataFrame(counts_nsw.most_common(15),\n",
        "                             columns=['words', 'count'])\n",
        "\n",
        "fig, ax = plt.subplots(figsize=(8, 8))\n",
        "\n",
        "# Plot horizontal bar graph\n",
        "clean_tweets_nsw.sort_values(by='count').plot.barh(x='words',\n",
        "                      y='count',\n",
        "                      ax=ax,\n",
        "                      color=\"purple\")\n",
        "\n",
        "ax.set_title(\"Common Words Found in Tweets (Without Stop Words)\")\n",
        "\n",
        "plt.show()"
      ],
      "metadata": {
        "colab": {
          "base_uri": "https://localhost:8080/",
          "height": 513
        },
        "id": "wG8HpqJCcYK0",
        "outputId": "c18c68db-7791-46f7-aaf6-0be306084b3d"
      },
      "execution_count": null,
      "outputs": [
        {
          "output_type": "display_data",
          "data": {
            "text/plain": [
              "<Figure size 576x576 with 1 Axes>"
            ],
            "image/png": "[encoded data removed]"
          },
          "metadata": {
            "needs_background": "light"
          }
        }
      ]
    },
    {
      "cell_type": "code",
      "source": [
        "collection_words = ['save', 'water']"
      ],
      "metadata": {
        "id": "O-5XXtf8ccAv"
      },
      "execution_count": null,
      "outputs": []
    },
    {
      "cell_type": "code",
      "source": [
        "tweets_nsw_nc = [[w for w in word if not w in collection_words]\n",
        "                 for word in tweets_nsw]"
      ],
      "metadata": {
        "id": "y8XyxvOYcewU"
      },
      "execution_count": null,
      "outputs": []
    },
    {
      "cell_type": "code",
      "source": [
        "tweets_nsw[0]"
      ],
      "metadata": {
        "colab": {
          "base_uri": "https://localhost:8080/"
        },
        "id": "jvBlmWsJchvY",
        "outputId": "187240aa-b1ee-42c6-f6f4-f2854cca7aaa"
      },
      "execution_count": null,
      "outputs": [
        {
          "output_type": "execute_result",
          "data": {
            "text/plain": [
              "['everyday',\n",
              " 'water',\n",
              " 'day',\n",
              " 'find',\n",
              " 'ways',\n",
              " 'save',\n",
              " 'water',\n",
              " 'wateragency',\n",
              " 'conservation']"
            ]
          },
          "metadata": {},
          "execution_count": 24
        }
      ]
    },
    {
      "cell_type": "code",
      "source": [
        "tweets_nsw_nc[0]"
      ],
      "metadata": {
        "colab": {
          "base_uri": "https://localhost:8080/"
        },
        "id": "7oFpta8ScldZ",
        "outputId": "dc83e32e-24d3-44a0-98b8-2eb625bfcfd1"
      },
      "execution_count": null,
      "outputs": [
        {
          "output_type": "execute_result",
          "data": {
            "text/plain": [
              "['everyday', 'day', 'find', 'ways', 'wateragency', 'conservation']"
            ]
          },
          "metadata": {},
          "execution_count": 25
        }
      ]
    },
    {
      "cell_type": "code",
      "source": [
        "# Flatten list of words in clean tweets\n",
        "all_words_nsw_nc = list(itertools.chain(*tweets_nsw_nc))\n",
        "\n",
        "# Create counter of words in clean tweets\n",
        "counts_nsw_nc = collections.Counter(all_words_nsw_nc)\n",
        "\n",
        "counts_nsw_nc.most_common(15)"
      ],
      "metadata": {
        "colab": {
          "base_uri": "https://localhost:8080/"
        },
        "id": "Ge1gXn1OcnbR",
        "outputId": "519a584a-4d7e-4cd4-f401-f6479c0352f3"
      },
      "execution_count": null,
      "outputs": [
        {
          "output_type": "execute_result",
          "data": {
            "text/plain": [
              "[('life', 308),\n",
              " ('world', 269),\n",
              " ('day', 212),\n",
              " ('lets', 176),\n",
              " ('worldwaterday', 159),\n",
              " ('every', 129),\n",
              " ('drop', 125),\n",
              " ('without', 91),\n",
              " ('savewater', 89),\n",
              " ('us', 81),\n",
              " ('happy', 71),\n",
              " ('pledge', 62),\n",
              " ('future', 60),\n",
              " ('earth', 60),\n",
              " ('waterday', 57)]"
            ]
          },
          "metadata": {},
          "execution_count": 26
        }
      ]
    },
    {
      "cell_type": "code",
      "source": [
        "len(counts_nsw_nc)\n"
      ],
      "metadata": {
        "colab": {
          "base_uri": "https://localhost:8080/"
        },
        "id": "L-n1J02dcrEr",
        "outputId": "96632c3e-f662-4e3e-c451-81063f344a0f"
      },
      "execution_count": null,
      "outputs": [
        {
          "output_type": "execute_result",
          "data": {
            "text/plain": [
              "2372"
            ]
          },
          "metadata": {},
          "execution_count": 27
        }
      ]
    },
    {
      "cell_type": "code",
      "source": [
        "clean_tweets_ncw = pd.DataFrame(counts_nsw_nc.most_common(15),\n",
        "                             columns=['words', 'count'])\n",
        "clean_tweets_ncw.head()"
      ],
      "metadata": {
        "colab": {
          "base_uri": "https://localhost:8080/",
          "height": 206
        },
        "id": "hWa6CC6LcwaT",
        "outputId": "1b61ebfe-8e8a-42a0-eac2-94eeae47982b"
      },
      "execution_count": null,
      "outputs": [
        {
          "output_type": "execute_result",
          "data": {
            "text/plain": [
              "           words  count\n",
              "0           life    308\n",
              "1          world    269\n",
              "2            day    212\n",
              "3           lets    176\n",
              "4  worldwaterday    159"
            ],
            "text/html": [
              "\n",
              "  <div id=\"df-26830511-6b59-48a8-af80-a851c21c8fec\">\n",
              "    <div class=\"colab-df-container\">\n",
              "      <div>\n",
              "<style scoped>\n",
              "    .dataframe tbody tr th:only-of-type {\n",
              "        vertical-align: middle;\n",
              "    }\n",
              "\n",
              "    .dataframe tbody tr th {\n",
              "        vertical-align: top;\n",
              "    }\n",
              "\n",
              "    .dataframe thead th {\n",
              "        text-align: right;\n",
              "    }\n",
              "</style>\n",
              "<table border=\"1\" class=\"dataframe\">\n",
              "  <thead>\n",
              "    <tr style=\"text-align: right;\">\n",
              "      <th></th>\n",
              "      <th>words</th>\n",
              "      <th>count</th>\n",
              "    </tr>\n",
              "  </thead>\n",
              "  <tbody>\n",
              "    <tr>\n",
              "      <th>0</th>\n",
              "      <td>life</td>\n",
              "      <td>308</td>\n",
              "    </tr>\n",
              "    <tr>\n",
              "      <th>1</th>\n",
              "      <td>world</td>\n",
              "      <td>269</td>\n",
              "    </tr>\n",
              "    <tr>\n",
              "      <th>2</th>\n",
              "      <td>day</td>\n",
              "      <td>212</td>\n",
              "    </tr>\n",
              "    <tr>\n",
              "      <th>3</th>\n",
              "      <td>lets</td>\n",
              "      <td>176</td>\n",
              "    </tr>\n",
              "    <tr>\n",
              "      <th>4</th>\n",
              "      <td>worldwaterday</td>\n",
              "      <td>159</td>\n",
              "    </tr>\n",
              "  </tbody>\n",
              "</table>\n",
              "</div>\n",
              "      <button class=\"colab-df-convert\" onclick=\"convertToInteractive('df-26830511-6b59-48a8-af80-a851c21c8fec')\"\n",
              "              title=\"Convert this dataframe to an interactive table.\"\n",
              "              style=\"display:none;\">\n",
              "        \n",
              "  <svg xmlns=\"http://www.w3.org/2000/svg\" height=\"24px\"viewBox=\"0 0 24 24\"\n",
              "       width=\"24px\">\n",
              "    <path d=\"M0 0h24v24H0V0z\" fill=\"none\"/>\n",
              "    <path d=\"M18.56 5.44l.94 2.06.94-2.06 2.06-.94-2.06-.94-.94-2.06-.94 2.06-2.06.94zm-11 1L8.5 8.5l.94-2.06 2.06-.94-2.06-.94L8.5 2.5l-.94 2.06-2.06.94zm10 10l.94 2.06.94-2.06 2.06-.94-2.06-.94-.94-2.06-.94 2.06-2.06.94z\"/><path d=\"M17.41 7.96l-1.37-1.37c-.4-.4-.92-.59-1.43-.59-.52 0-1.04.2-1.43.59L10.3 9.45l-7.72 7.72c-.78.78-.78 2.05 0 2.83L4 21.41c.39.39.9.59 1.41.59.51 0 1.02-.2 1.41-.59l7.78-7.78 2.81-2.81c.8-.78.8-2.07 0-2.86zM5.41 20L4 18.59l7.72-7.72 1.47 1.35L5.41 20z\"/>\n",
              "  </svg>\n",
              "      </button>\n",
              "      \n",
              "  <style>\n",
              "    .colab-df-container {\n",
              "      display:flex;\n",
              "      flex-wrap:wrap;\n",
              "      gap: 12px;\n",
              "    }\n",
              "\n",
              "    .colab-df-convert {\n",
              "      background-color: #E8F0FE;\n",
              "      border: none;\n",
              "      border-radius: 50%;\n",
              "      cursor: pointer;\n",
              "      display: none;\n",
              "      fill: #1967D2;\n",
              "      height: 32px;\n",
              "      padding: 0 0 0 0;\n",
              "      width: 32px;\n",
              "    }\n",
              "\n",
              "    .colab-df-convert:hover {\n",
              "      background-color: #E2EBFA;\n",
              "      box-shadow: 0px 1px 2px rgba(60, 64, 67, 0.3), 0px 1px 3px 1px rgba(60, 64, 67, 0.15);\n",
              "      fill: #174EA6;\n",
              "    }\n",
              "\n",
              "    [theme=dark] .colab-df-convert {\n",
              "      background-color: #3B4455;\n",
              "      fill: #D2E3FC;\n",
              "    }\n",
              "\n",
              "    [theme=dark] .colab-df-convert:hover {\n",
              "      background-color: #434B5C;\n",
              "      box-shadow: 0px 1px 3px 1px rgba(0, 0, 0, 0.15);\n",
              "      filter: drop-shadow(0px 1px 2px rgba(0, 0, 0, 0.3));\n",
              "      fill: #FFFFFF;\n",
              "    }\n",
              "  </style>\n",
              "\n",
              "      <script>\n",
              "        const buttonEl =\n",
              "          document.querySelector('#df-26830511-6b59-48a8-af80-a851c21c8fec button.colab-df-convert');\n",
              "        buttonEl.style.display =\n",
              "          google.colab.kernel.accessAllowed ? 'block' : 'none';\n",
              "\n",
              "        async function convertToInteractive(key) {\n",
              "          const element = document.querySelector('#df-26830511-6b59-48a8-af80-a851c21c8fec');\n",
              "          const dataTable =\n",
              "            await google.colab.kernel.invokeFunction('convertToInteractive',\n",
              "                                                     [key], {});\n",
              "          if (!dataTable) return;\n",
              "\n",
              "          const docLinkHtml = 'Like what you see? Visit the ' +\n",
              "            '<a target=\"_blank\" href=https://colab.research.google.com/notebooks/data_table.ipynb>data table notebook</a>'\n",
              "            + ' to learn more about interactive tables.';\n",
              "          element.innerHTML = '';\n",
              "          dataTable['output_type'] = 'display_data';\n",
              "          await google.colab.output.renderOutput(dataTable, element);\n",
              "          const docLink = document.createElement('div');\n",
              "          docLink.innerHTML = docLinkHtml;\n",
              "          element.appendChild(docLink);\n",
              "        }\n",
              "      </script>\n",
              "    </div>\n",
              "  </div>\n",
              "  "
            ]
          },
          "metadata": {},
          "execution_count": 28
        }
      ]
    },
    {
      "cell_type": "code",
      "source": [
        "fig, ax = plt.subplots(figsize=(8, 8))\n",
        "\n",
        "# Plot horizontal bar graph\n",
        "clean_tweets_ncw.sort_values(by='count').plot.barh(x='words',\n",
        "                      y='count',\n",
        "                      ax=ax,\n",
        "                      color=\"purple\")\n",
        "\n",
        "ax.set_title(\"Common Words Found in Tweets (Without Stop or Collection Words)\")\n",
        "\n",
        "plt.show()"
      ],
      "metadata": {
        "colab": {
          "base_uri": "https://localhost:8080/",
          "height": 513
        },
        "id": "ulL0skC0c1lY",
        "outputId": "33eb8ee3-6a2f-44f8-ff87-093cb77b571e"
      },
      "execution_count": null,
      "outputs": [
        {
          "output_type": "display_data",
          "data": {
            "text/plain": [
              "<Figure size 576x576 with 1 Axes>"
            ],
            "image/png": "[encoded data removed]"
          },
          "metadata": {
            "needs_background": "light"
          }
        }
      ]
    },
    {
      "cell_type": "code",
      "source": [
        ""
      ],
      "metadata": {
        "id": "tOsfZioJ9jYA"
      },
      "execution_count": null,
      "outputs": []
    }
  ]
}